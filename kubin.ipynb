{
 "cells": [
  {
   "cell_type": "code",
   "execution_count": null,
   "metadata": {},
   "outputs": [],
   "source": [
    "#@title Settings\n",
    "use_ngrok = False #@param {type:\"boolean\"}\n",
    "ngrok_auth_key = \"\" #@param {type:\"string\"}\n",
    "branch = 'master' #@param [\"master\", \"dev\"]"
   ]
  },
  {
   "cell_type": "code",
   "execution_count": null,
   "metadata": {
    "vscode": {
     "languageId": "julia"
    }
   },
   "outputs": [],
   "source": [
    "%cd /content\n",
    "\n",
    "!git clone -b {branch} https://github.com/seruva19/kubin.git\n",
    "%cd /content/kubin\n",
    "\n",
    "!pip install -r requirements.txt"
   ]
  },
  {
   "cell_type": "code",
   "execution_count": null,
   "metadata": {
    "vscode": {
     "languageId": "julia"
    }
   },
   "outputs": [],
   "source": [
    "if use_ngrok: \n",
    "  !pip install pyngrok\n",
    "  from pyngrok import ngrok\n",
    "  ngrok.set_auth_token(ngrok_auth_key)\n",
    "\n",
    "  tunnels = ngrok.get_tunnels()\n",
    "  for tunnel in tunnels:\n",
    "    ngrok.disconnect(tunnel.public_url)\n",
    "\n",
    "  print(ngrok.connect(7860, \"http\"))"
   ]
  },
  {
   "cell_type": "code",
   "execution_count": null,
   "metadata": {
    "vscode": {
     "languageId": "julia"
    }
   },
   "outputs": [],
   "source": [
    "!python src/kubin.py --cache-dir=\"/content/models\" --output-dir=\"/content/output\" --share={\"none\" if use_ngrok else \"gradio\"}"
   ]
  }
 ],
 "metadata": {
  "kernelspec": {
   "display_name": "venv",
   "language": "python",
   "name": "python3"
  },
  "language_info": {
   "name": "python",
   "version": "3.10.8"
  },
  "orig_nbformat": 4
 },
 "nbformat": 4,
 "nbformat_minor": 2
}
